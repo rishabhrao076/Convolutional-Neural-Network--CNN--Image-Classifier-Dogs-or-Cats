{
 "cells": [
  {
   "cell_type": "markdown",
   "metadata": {
    "colab_type": "text",
    "id": "3DR-eO17geWu"
   },
   "source": [
    "# Convolutional Neural Network"
   ]
  },
  {
   "cell_type": "markdown",
   "metadata": {
    "colab_type": "text",
    "id": "EMefrVPCg-60"
   },
   "source": [
    "### Importing the libraries"
   ]
  },
  {
   "cell_type": "code",
   "execution_count": 2,
   "metadata": {},
   "outputs": [],
   "source": [
    "import tensorflow as tf\n",
    "from keras.preprocessing.image import ImageDataGenerator"
   ]
  },
  {
   "cell_type": "code",
   "execution_count": 3,
   "metadata": {
    "colab": {},
    "colab_type": "code",
    "id": "FIleuCAjoFD8"
   },
   "outputs": [
    {
     "data": {
      "text/plain": [
       "'2.15.0'"
      ]
     },
     "execution_count": 3,
     "metadata": {},
     "output_type": "execute_result"
    }
   ],
   "source": [
    "tf.__version__"
   ]
  },
  {
   "cell_type": "markdown",
   "metadata": {
    "colab_type": "text",
    "id": "oxQxCBWyoGPE"
   },
   "source": [
    "## Part 1 - Data Preprocessing"
   ]
  },
  {
   "cell_type": "markdown",
   "metadata": {
    "colab_type": "text",
    "id": "MvE-heJNo3GG"
   },
   "source": [
    "### Preprocessing the Training set"
   ]
  },
  {
   "cell_type": "code",
   "execution_count": 4,
   "metadata": {
    "colab": {},
    "colab_type": "code",
    "id": "0koUcJMJpEBD"
   },
   "outputs": [
    {
     "name": "stdout",
     "output_type": "stream",
     "text": [
      "Found 8000 images belonging to 2 classes.\n"
     ]
    }
   ],
   "source": [
    "# We preprocess the images dataset to introduce some variety in images such as zoomed, sheared, flipped etc. to avoid overfitting the model\n",
    "train_datagen = ImageDataGenerator(\n",
    "    rescale= 1. / 255,\n",
    "    shear_range= 0.2,\n",
    "    zoom_range= 0.2, \n",
    "    horizontal_flip= True,\n",
    ")\n",
    "# The rescale option normalizes the pixel values i.e how black/white it is (how bright that pixel is). for easier processing in the CNN\n",
    "training_set = train_datagen.flow_from_directory(\n",
    "    directory='./dataset/training_set/',\n",
    "    target_size=(64,64),\n",
    "    batch_size=32,\n",
    "    class_mode= 'binary'\n",
    ")\n",
    "# Target_size is the size(h,w) of the images before feeding it to the CNN\n"
   ]
  },
  {
   "cell_type": "markdown",
   "metadata": {
    "colab_type": "text",
    "id": "mrCMmGw9pHys"
   },
   "source": [
    "### Preprocessing the Test set"
   ]
  },
  {
   "cell_type": "code",
   "execution_count": 5,
   "metadata": {
    "colab": {},
    "colab_type": "code",
    "id": "SH4WzfOhpKc3"
   },
   "outputs": [
    {
     "name": "stdout",
     "output_type": "stream",
     "text": [
      "Found 2000 images belonging to 2 classes.\n"
     ]
    }
   ],
   "source": [
    "# we are only rescaling but not applying any transformations\n",
    "test_datagen = ImageDataGenerator(\n",
    "    rescale= 1. / 255,\n",
    ")\n",
    "test_set = train_datagen.flow_from_directory(\n",
    "    directory='dataset/test_set',\n",
    "    target_size=(64,64),\n",
    "    batch_size=32,\n",
    "    class_mode= 'binary'\n",
    ")"
   ]
  },
  {
   "cell_type": "markdown",
   "metadata": {
    "colab_type": "text",
    "id": "af8O4l90gk7B"
   },
   "source": [
    "## Part 2 - Building the CNN"
   ]
  },
  {
   "cell_type": "markdown",
   "metadata": {
    "colab_type": "text",
    "id": "ces1gXY2lmoX"
   },
   "source": [
    "### Initialising the CNN"
   ]
  },
  {
   "cell_type": "code",
   "execution_count": 6,
   "metadata": {},
   "outputs": [],
   "source": [
    "cnn = tf.keras.models.Sequential()"
   ]
  },
  {
   "cell_type": "markdown",
   "metadata": {
    "colab_type": "text",
    "id": "u5YJj_XMl5LF"
   },
   "source": [
    "### Step 1 - Convolution"
   ]
  },
  {
   "cell_type": "code",
   "execution_count": 7,
   "metadata": {},
   "outputs": [],
   "source": [
    "cnn.add(tf.keras.layers.Conv2D(filters= 32, input_shape=[64,64,3], kernel_size = 3, activation='relu'))"
   ]
  },
  {
   "cell_type": "markdown",
   "metadata": {
    "colab_type": "text",
    "id": "tf87FpvxmNOJ"
   },
   "source": [
    "### Step 2 - Pooling"
   ]
  },
  {
   "cell_type": "code",
   "execution_count": 8,
   "metadata": {},
   "outputs": [],
   "source": [
    "cnn.add(tf.keras.layers.MaxPool2D(pool_size=2, strides=2))"
   ]
  },
  {
   "cell_type": "markdown",
   "metadata": {
    "colab_type": "text",
    "id": "xaTOgD8rm4mU"
   },
   "source": [
    "### Adding a second convolutional layer"
   ]
  },
  {
   "cell_type": "code",
   "execution_count": 9,
   "metadata": {},
   "outputs": [],
   "source": [
    "cnn.add(tf.keras.layers.Conv2D(filters= 32, kernel_size = 3, activation='relu'))\n",
    "cnn.add(tf.keras.layers.MaxPool2D(pool_size=2, strides=2))"
   ]
  },
  {
   "cell_type": "markdown",
   "metadata": {
    "colab_type": "text",
    "id": "tmiEuvTunKfk"
   },
   "source": [
    "### Step 3 - Flattening"
   ]
  },
  {
   "cell_type": "code",
   "execution_count": 10,
   "metadata": {},
   "outputs": [],
   "source": [
    "cnn.add(tf.keras.layers.Flatten())"
   ]
  },
  {
   "cell_type": "markdown",
   "metadata": {
    "colab_type": "text",
    "id": "dAoSECOm203v"
   },
   "source": [
    "### Step 4 - Full Connection"
   ]
  },
  {
   "cell_type": "code",
   "execution_count": 11,
   "metadata": {},
   "outputs": [],
   "source": [
    "cnn.add(tf.keras.layers.Dense(units = 128, activation='relu'))"
   ]
  },
  {
   "cell_type": "markdown",
   "metadata": {
    "colab_type": "text",
    "id": "yTldFvbX28Na"
   },
   "source": [
    "### Step 5 - Output Layer"
   ]
  },
  {
   "cell_type": "code",
   "execution_count": 12,
   "metadata": {},
   "outputs": [],
   "source": [
    "# One neuron for the output either cat or dog\n",
    "cnn.add(tf.keras.layers.Dense(units = 1, activation='sigmoid'))"
   ]
  },
  {
   "cell_type": "markdown",
   "metadata": {
    "colab_type": "text",
    "id": "D6XkI90snSDl"
   },
   "source": [
    "## Part 3 - Training the CNN"
   ]
  },
  {
   "cell_type": "markdown",
   "metadata": {
    "colab_type": "text",
    "id": "vfrFQACEnc6i"
   },
   "source": [
    "### Compiling the CNN"
   ]
  },
  {
   "cell_type": "code",
   "execution_count": 13,
   "metadata": {},
   "outputs": [],
   "source": [
    "cnn.compile(optimizer='adam', loss='binary_crossentropy', metrics=['accuracy'])"
   ]
  },
  {
   "cell_type": "markdown",
   "metadata": {
    "colab_type": "text",
    "id": "ehS-v3MIpX2h"
   },
   "source": [
    "### Training the CNN on the Training set and evaluating it on the Test set"
   ]
  },
  {
   "cell_type": "code",
   "execution_count": 14,
   "metadata": {},
   "outputs": [
    {
     "name": "stdout",
     "output_type": "stream",
     "text": [
      "Epoch 1/25\n",
      "250/250 [==============================] - 17s 68ms/step - loss: 0.6782 - accuracy: 0.5744 - val_loss: 0.6605 - val_accuracy: 0.6005\n",
      "Epoch 2/25\n",
      "250/250 [==============================] - 16s 66ms/step - loss: 0.6130 - accuracy: 0.6679 - val_loss: 0.5680 - val_accuracy: 0.6960\n",
      "Epoch 3/25\n",
      "250/250 [==============================] - 17s 67ms/step - loss: 0.5618 - accuracy: 0.7110 - val_loss: 0.5627 - val_accuracy: 0.7160\n",
      "Epoch 4/25\n",
      "250/250 [==============================] - 17s 66ms/step - loss: 0.5236 - accuracy: 0.7374 - val_loss: 0.5177 - val_accuracy: 0.7480\n",
      "Epoch 5/25\n",
      "250/250 [==============================] - 17s 67ms/step - loss: 0.4945 - accuracy: 0.7591 - val_loss: 0.5226 - val_accuracy: 0.7415\n",
      "Epoch 6/25\n",
      "250/250 [==============================] - 17s 67ms/step - loss: 0.4820 - accuracy: 0.7691 - val_loss: 0.5014 - val_accuracy: 0.7525\n",
      "Epoch 7/25\n",
      "250/250 [==============================] - 17s 67ms/step - loss: 0.4583 - accuracy: 0.7812 - val_loss: 0.4913 - val_accuracy: 0.7730\n",
      "Epoch 8/25\n",
      "250/250 [==============================] - 17s 67ms/step - loss: 0.4401 - accuracy: 0.7920 - val_loss: 0.4696 - val_accuracy: 0.7900\n",
      "Epoch 9/25\n",
      "250/250 [==============================] - 17s 67ms/step - loss: 0.4285 - accuracy: 0.7994 - val_loss: 0.4601 - val_accuracy: 0.7925\n",
      "Epoch 10/25\n",
      "250/250 [==============================] - 17s 68ms/step - loss: 0.4057 - accuracy: 0.8073 - val_loss: 0.4673 - val_accuracy: 0.7895\n",
      "Epoch 11/25\n",
      "250/250 [==============================] - 17s 68ms/step - loss: 0.3929 - accuracy: 0.8230 - val_loss: 0.4659 - val_accuracy: 0.7835\n",
      "Epoch 12/25\n",
      "250/250 [==============================] - 17s 69ms/step - loss: 0.3887 - accuracy: 0.8190 - val_loss: 0.4438 - val_accuracy: 0.8040\n",
      "Epoch 13/25\n",
      "250/250 [==============================] - 17s 69ms/step - loss: 0.3643 - accuracy: 0.8353 - val_loss: 0.4641 - val_accuracy: 0.7970\n",
      "Epoch 14/25\n",
      "250/250 [==============================] - 17s 69ms/step - loss: 0.3561 - accuracy: 0.8475 - val_loss: 0.4502 - val_accuracy: 0.7980\n",
      "Epoch 15/25\n",
      "250/250 [==============================] - 17s 68ms/step - loss: 0.3405 - accuracy: 0.8503 - val_loss: 0.4634 - val_accuracy: 0.7960\n",
      "Epoch 16/25\n",
      "250/250 [==============================] - 17s 68ms/step - loss: 0.3356 - accuracy: 0.8535 - val_loss: 0.4546 - val_accuracy: 0.8025\n",
      "Epoch 17/25\n",
      "250/250 [==============================] - 17s 69ms/step - loss: 0.3207 - accuracy: 0.8620 - val_loss: 0.4827 - val_accuracy: 0.7860\n",
      "Epoch 18/25\n",
      "250/250 [==============================] - 17s 69ms/step - loss: 0.3103 - accuracy: 0.8659 - val_loss: 0.4505 - val_accuracy: 0.7985\n",
      "Epoch 19/25\n",
      "250/250 [==============================] - 17s 69ms/step - loss: 0.3044 - accuracy: 0.8677 - val_loss: 0.5000 - val_accuracy: 0.7765\n",
      "Epoch 20/25\n",
      "250/250 [==============================] - 17s 69ms/step - loss: 0.2852 - accuracy: 0.8817 - val_loss: 0.5259 - val_accuracy: 0.7980\n",
      "Epoch 21/25\n",
      "250/250 [==============================] - 19s 77ms/step - loss: 0.2695 - accuracy: 0.8857 - val_loss: 0.4950 - val_accuracy: 0.7995\n",
      "Epoch 22/25\n",
      "250/250 [==============================] - 19s 75ms/step - loss: 0.2434 - accuracy: 0.8989 - val_loss: 0.4927 - val_accuracy: 0.8045\n",
      "Epoch 23/25\n",
      "250/250 [==============================] - 18s 71ms/step - loss: 0.2478 - accuracy: 0.8956 - val_loss: 0.5812 - val_accuracy: 0.7790\n",
      "Epoch 24/25\n",
      "250/250 [==============================] - 17s 68ms/step - loss: 0.2381 - accuracy: 0.9028 - val_loss: 0.5092 - val_accuracy: 0.8095\n",
      "Epoch 25/25\n",
      "250/250 [==============================] - 17s 67ms/step - loss: 0.2361 - accuracy: 0.9036 - val_loss: 0.5127 - val_accuracy: 0.8085\n"
     ]
    },
    {
     "data": {
      "text/plain": [
       "<keras.src.callbacks.History at 0x15f97f050>"
      ]
     },
     "execution_count": 14,
     "metadata": {},
     "output_type": "execute_result"
    }
   ],
   "source": [
    "cnn.fit(x = training_set, validation_data = test_set, epochs = 25)"
   ]
  },
  {
   "cell_type": "markdown",
   "metadata": {
    "colab_type": "text",
    "id": "U3PZasO0006Z"
   },
   "source": [
    "## Part 4 - Making a single prediction"
   ]
  },
  {
   "cell_type": "code",
   "execution_count": 24,
   "metadata": {},
   "outputs": [
    {
     "name": "stdout",
     "output_type": "stream",
     "text": [
      "[[[[170. 131.  90.]\n",
      "   [171. 132.  91.]\n",
      "   [172. 133.  92.]\n",
      "   ...\n",
      "   [124.  97.  67.]\n",
      "   [117.  91.  58.]\n",
      "   [112.  86.  53.]]\n",
      "\n",
      "  [[183. 144. 103.]\n",
      "   [176. 137.  96.]\n",
      "   [176. 137.  96.]\n",
      "   ...\n",
      "   [ 26.  19.   9.]\n",
      "   [ 31.  25.  13.]\n",
      "   [ 31.  25.  13.]]\n",
      "\n",
      "  [[178. 140. 103.]\n",
      "   [176. 138. 101.]\n",
      "   [176. 138. 101.]\n",
      "   ...\n",
      "   [129.  98.  69.]\n",
      "   [120.  92.  55.]\n",
      "   [127.  99.  62.]]\n",
      "\n",
      "  ...\n",
      "\n",
      "  [[188. 181. 165.]\n",
      "   [200. 193. 174.]\n",
      "   [209. 207. 186.]\n",
      "   ...\n",
      "   [ 30.  53.  37.]\n",
      "   [ 21.  44.  28.]\n",
      "   [ 29.  52.  36.]]\n",
      "\n",
      "  [[191. 189. 166.]\n",
      "   [198. 191. 172.]\n",
      "   [207. 199. 178.]\n",
      "   ...\n",
      "   [ 30.  53.  37.]\n",
      "   [ 32.  53.  38.]\n",
      "   [ 28.  49.  34.]]\n",
      "\n",
      "  [[190. 188. 176.]\n",
      "   [188. 185. 170.]\n",
      "   [197. 190. 174.]\n",
      "   ...\n",
      "   [ 32.  55.  39.]\n",
      "   [ 28.  49.  34.]\n",
      "   [ 37.  58.  43.]]]]\n",
      "1/1 [==============================] - 0s 8ms/step\n"
     ]
    }
   ],
   "source": [
    "import numpy as np\n",
    "from keras.preprocessing import image\n",
    "# Load image as PIL format\n",
    "test_image = image.load_img('dataset/single_prediction/cat_or_dog_2.jpg', target_size = (64,64))\n",
    "# convert PIL format into an array\n",
    "test_image = image.img_to_array(test_image)\n",
    "# we trained our cnn in a batch so we cannot directly feed it a single image\n",
    "# we add another dimension to our array coresponding to a batch\n",
    "test_image = np.expand_dims(test_image, axis = 0) # new dimension is added at 0th positon of the array\n",
    "print(test_image)\n",
    "result = cnn.predict(test_image)\n",
    "training_set.class_indices\n",
    "if result[0][0] == 1:\n",
    "  prediction = 'dog'\n",
    "else:\n",
    "  prediction = 'cat'\n",
    "# first 0 refers to the batch and the second 0 refers to the prediction"
   ]
  },
  {
   "cell_type": "code",
   "execution_count": 25,
   "metadata": {},
   "outputs": [
    {
     "name": "stdout",
     "output_type": "stream",
     "text": [
      "dog\n"
     ]
    }
   ],
   "source": [
    "print(prediction)"
   ]
  },
  {
   "cell_type": "code",
   "execution_count": null,
   "metadata": {},
   "outputs": [],
   "source": []
  },
  {
   "cell_type": "code",
   "execution_count": null,
   "metadata": {},
   "outputs": [],
   "source": []
  }
 ],
 "metadata": {
  "colab": {
   "collapsed_sections": [],
   "name": "convolutional_neural_network.ipynb",
   "provenance": [],
   "toc_visible": true
  },
  "kernelspec": {
   "display_name": "Python 3 (ipykernel)",
   "language": "python",
   "name": "python3"
  },
  "language_info": {
   "codemirror_mode": {
    "name": "ipython",
    "version": 3
   },
   "file_extension": ".py",
   "mimetype": "text/x-python",
   "name": "python",
   "nbconvert_exporter": "python",
   "pygments_lexer": "ipython3",
   "version": "3.11.7"
  }
 },
 "nbformat": 4,
 "nbformat_minor": 4
}
